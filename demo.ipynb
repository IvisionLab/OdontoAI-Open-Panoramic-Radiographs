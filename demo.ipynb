{
 "cells": [
  {
   "cell_type": "markdown",
   "metadata": {},
   "source": [
    "# Imports"
   ]
  },
  {
   "cell_type": "code",
   "execution_count": null,
   "metadata": {},
   "outputs": [],
   "source": [
    "import os\n",
    "import json\n",
    "import random\n",
    "import matplotlib.pyplot as plt\n",
    "from PIL import Image\n",
    "\n",
    "from conversions import anns2mask\n",
    "\n",
    "%load_ext autoreload\n",
    "%autoreload 2"
   ]
  },
  {
   "cell_type": "markdown",
   "metadata": {},
   "source": [
    "# Inputs"
   ]
  },
  {
   "cell_type": "code",
   "execution_count": null,
   "metadata": {},
   "outputs": [],
   "source": [
    "INPUT_DIR = 'data'\n",
    "JSON_DIR = os.path.join(INPUT_DIR, 'jsons')\n",
    "IMAGE_DIR = os.path.join(INPUT_DIR, 'images')"
   ]
  },
  {
   "cell_type": "markdown",
   "metadata": {},
   "source": [
    "## Random Fold"
   ]
  },
  {
   "cell_type": "code",
   "execution_count": null,
   "metadata": {},
   "outputs": [],
   "source": [
    "# Select a random JSON file and read a random image from it\n",
    "json_filenames = [name for name in os.listdir(JSON_DIR) if name.endswith('.json')]\n",
    "random.shuffle(json_filenames)\n",
    "\n",
    "json_filename = json_filenames[0]\n",
    "json_filepath = os.path.join(JSON_DIR, json_filename)\n",
    "with open(json_filepath, 'r') as json_file:\n",
    "    data = json.load(json_file)\n",
    "    categories, images, annotations = data['categories'], data['images'], data['annotations']"
   ]
  },
  {
   "cell_type": "markdown",
   "metadata": {},
   "source": [
    "## Show a random image from the fold"
   ]
  },
  {
   "cell_type": "code",
   "execution_count": null,
   "metadata": {},
   "outputs": [],
   "source": [
    "img_idx = random.randint(0, len(images) - 1)\n",
    "sample_image = images[img_idx]\n",
    "print(f'Selected image is {sample_image[\"file_name\"]}')\n",
    "\n",
    "img_annotations = [ann for ann in annotations if ann['image_id'] == sample_image['id']]\n",
    "img = Image.open(os.path.join(IMAGE_DIR, sample_image['file_name']))\n",
    "\n",
    "# Show image and tooth instances using a custom color code\n",
    "plt.figure(figsize=(16, 16))\n",
    "plt.axis('off')\n",
    "plt.imshow(img)\n",
    "for ann in img_annotations:\n",
    "    mask = anns2mask([ann], sample_image['height'], sample_image['width'], alpha=127)\n",
    "    plt.imshow(mask)"
   ]
  },
  {
   "cell_type": "code",
   "execution_count": null,
   "metadata": {},
   "outputs": [],
   "source": []
  }
 ],
 "metadata": {
  "interpreter": {
   "hash": "916dbcbb3f70747c44a77c7bcd40155683ae19c65e1c03b4aa3499c5328201f1"
  },
  "kernelspec": {
   "display_name": "Python 3.8.10 64-bit",
   "language": "python",
   "name": "python3"
  },
  "language_info": {
   "codemirror_mode": {
    "name": "ipython",
    "version": 3
   },
   "file_extension": ".py",
   "mimetype": "text/x-python",
   "name": "python",
   "nbconvert_exporter": "python",
   "pygments_lexer": "ipython3",
   "version": "3.8.10"
  },
  "orig_nbformat": 4
 },
 "nbformat": 4,
 "nbformat_minor": 2
}
